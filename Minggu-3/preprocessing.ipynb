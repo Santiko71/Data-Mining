{
 "cells": [
  {
   "cell_type": "markdown",
   "metadata": {},
   "source": [
    "Importing the libraries"
   ]
  },
  {
   "cell_type": "code",
   "execution_count": 84,
   "metadata": {},
   "outputs": [],
   "source": [
    "import numpy as np\n",
    "import matplotlib.pyplot as plt\n",
    "import pandas as pd"
   ]
  },
  {
   "cell_type": "markdown",
   "metadata": {},
   "source": [
    "Importing the dataset"
   ]
  },
  {
   "cell_type": "code",
   "execution_count": 85,
   "metadata": {},
   "outputs": [],
   "source": [
    "dataset = pd.read_csv('Data.csv')\n",
    "X = dataset.iloc[:, :-1].values\n",
    "y = dataset.iloc[:, -1].values"
   ]
  },
  {
   "cell_type": "code",
   "execution_count": 86,
   "metadata": {},
   "outputs": [
    {
     "name": "stdout",
     "output_type": "stream",
     "text": [
      "[[1 'Jateng' 25.0 nan]\n",
      " [2 'Kaltim' 21.0 6000000.0]\n",
      " [3 'Sumbar' 27.0 4500000.0]\n",
      " [4 'Sulsel' nan 8000000.0]\n",
      " [5 'NTT' 29.0 nan]\n",
      " [6 'Jateng' 23.0 2900000.0]\n",
      " [7 'Kaltim' 24.0 5000000.0]\n",
      " [8 'Sumbar' nan 7500000.0]\n",
      " [9 'Sulsel' 29.0 5000000.0]\n",
      " [10 'NTT' 20.0 3500000.0]]\n"
     ]
    }
   ],
   "source": [
    "print(X)"
   ]
  },
  {
   "cell_type": "code",
   "execution_count": 87,
   "metadata": {},
   "outputs": [
    {
     "name": "stdout",
     "output_type": "stream",
     "text": [
      "['Yes' 'No' 'Yes' 'Yes' 'No' 'Yes' 'Yes' 'No' 'No' 'Yes']\n"
     ]
    }
   ],
   "source": [
    "print(y)"
   ]
  },
  {
   "cell_type": "markdown",
   "metadata": {},
   "source": [
    "Splitting the dataset into the Training set and Test set"
   ]
  },
  {
   "cell_type": "code",
   "execution_count": 88,
   "metadata": {},
   "outputs": [],
   "source": [
    "from sklearn.impute import SimpleImputer\n",
    "imputer = SimpleImputer(missing_values=np.nan, strategy='most_frequent')\n",
    "imputer.fit(X[:, 1:3])\n",
    "X[:, 1:3] = imputer.transform(X[:, 1:3])"
   ]
  },
  {
   "cell_type": "code",
   "execution_count": 89,
   "metadata": {},
   "outputs": [
    {
     "name": "stdout",
     "output_type": "stream",
     "text": [
      "[[1 'Jateng' 25.0 nan]\n",
      " [2 'Kaltim' 21.0 6000000.0]\n",
      " [3 'Sumbar' 27.0 4500000.0]\n",
      " [4 'Sulsel' 29.0 8000000.0]\n",
      " [5 'NTT' 29.0 nan]\n",
      " [6 'Jateng' 23.0 2900000.0]\n",
      " [7 'Kaltim' 24.0 5000000.0]\n",
      " [8 'Sumbar' 29.0 7500000.0]\n",
      " [9 'Sulsel' 29.0 5000000.0]\n",
      " [10 'NTT' 20.0 3500000.0]]\n"
     ]
    }
   ],
   "source": [
    "print(X)"
   ]
  },
  {
   "cell_type": "code",
   "execution_count": 90,
   "metadata": {},
   "outputs": [],
   "source": [
    "from sklearn.compose import ColumnTransformer\n",
    "from sklearn.preprocessing import OneHotEncoder\n",
    "ct = ColumnTransformer(transformers=[('encoder', OneHotEncoder(),[0])], remainder='passthrough')\n",
    "X = np.array(ct.fit_transform(X))"
   ]
  },
  {
   "cell_type": "code",
   "execution_count": 91,
   "metadata": {},
   "outputs": [
    {
     "name": "stdout",
     "output_type": "stream",
     "text": [
      "[[1.0 0.0 0.0 0.0 0.0 0.0 0.0 0.0 0.0 0.0 'Jateng' 25.0 nan]\n",
      " [0.0 1.0 0.0 0.0 0.0 0.0 0.0 0.0 0.0 0.0 'Kaltim' 21.0 6000000.0]\n",
      " [0.0 0.0 1.0 0.0 0.0 0.0 0.0 0.0 0.0 0.0 'Sumbar' 27.0 4500000.0]\n",
      " [0.0 0.0 0.0 1.0 0.0 0.0 0.0 0.0 0.0 0.0 'Sulsel' 29.0 8000000.0]\n",
      " [0.0 0.0 0.0 0.0 1.0 0.0 0.0 0.0 0.0 0.0 'NTT' 29.0 nan]\n",
      " [0.0 0.0 0.0 0.0 0.0 1.0 0.0 0.0 0.0 0.0 'Jateng' 23.0 2900000.0]\n",
      " [0.0 0.0 0.0 0.0 0.0 0.0 1.0 0.0 0.0 0.0 'Kaltim' 24.0 5000000.0]\n",
      " [0.0 0.0 0.0 0.0 0.0 0.0 0.0 1.0 0.0 0.0 'Sumbar' 29.0 7500000.0]\n",
      " [0.0 0.0 0.0 0.0 0.0 0.0 0.0 0.0 1.0 0.0 'Sulsel' 29.0 5000000.0]\n",
      " [0.0 0.0 0.0 0.0 0.0 0.0 0.0 0.0 0.0 1.0 'NTT' 20.0 3500000.0]]\n"
     ]
    }
   ],
   "source": [
    "print(X)"
   ]
  },
  {
   "cell_type": "code",
   "execution_count": 92,
   "metadata": {},
   "outputs": [],
   "source": [
    "from sklearn.preprocessing import LabelEncoder\n",
    "le = LabelEncoder()\n",
    "y = le.fit_transform(y)"
   ]
  },
  {
   "cell_type": "code",
   "execution_count": 93,
   "metadata": {},
   "outputs": [
    {
     "name": "stdout",
     "output_type": "stream",
     "text": [
      "[1 0 1 1 0 1 1 0 0 1]\n"
     ]
    }
   ],
   "source": [
    "print(y)"
   ]
  },
  {
   "cell_type": "code",
   "execution_count": 94,
   "metadata": {},
   "outputs": [],
   "source": [
    "from sklearn.model_selection import train_test_split\n",
    "X_train, X_test, y_train, y_test = train_test_split(X, y, test_size = 0.2, random_state = 1)"
   ]
  },
  {
   "cell_type": "code",
   "execution_count": 95,
   "metadata": {},
   "outputs": [
    {
     "name": "stdout",
     "output_type": "stream",
     "text": [
      "[[0.0 0.0 0.0 0.0 0.0 0.0 1.0 0.0 0.0 0.0 'Kaltim' 24.0 5000000.0]\n",
      " [0.0 0.0 0.0 0.0 1.0 0.0 0.0 0.0 0.0 0.0 'NTT' 29.0 nan]\n",
      " [1.0 0.0 0.0 0.0 0.0 0.0 0.0 0.0 0.0 0.0 'Jateng' 25.0 nan]\n",
      " [0.0 0.0 0.0 1.0 0.0 0.0 0.0 0.0 0.0 0.0 'Sulsel' 29.0 8000000.0]\n",
      " [0.0 1.0 0.0 0.0 0.0 0.0 0.0 0.0 0.0 0.0 'Kaltim' 21.0 6000000.0]\n",
      " [0.0 0.0 0.0 0.0 0.0 0.0 0.0 1.0 0.0 0.0 'Sumbar' 29.0 7500000.0]\n",
      " [0.0 0.0 0.0 0.0 0.0 0.0 0.0 0.0 1.0 0.0 'Sulsel' 29.0 5000000.0]\n",
      " [0.0 0.0 0.0 0.0 0.0 1.0 0.0 0.0 0.0 0.0 'Jateng' 23.0 2900000.0]]\n"
     ]
    }
   ],
   "source": [
    "print(X_train)"
   ]
  },
  {
   "cell_type": "code",
   "execution_count": 96,
   "metadata": {},
   "outputs": [
    {
     "name": "stdout",
     "output_type": "stream",
     "text": [
      "[[0.0 0.0 1.0 0.0 0.0 0.0 0.0 0.0 0.0 0.0 'Sumbar' 27.0 4500000.0]\n",
      " [0.0 0.0 0.0 0.0 0.0 0.0 0.0 0.0 0.0 1.0 'NTT' 20.0 3500000.0]]\n"
     ]
    }
   ],
   "source": [
    "print(X_test)"
   ]
  },
  {
   "cell_type": "code",
   "execution_count": 97,
   "metadata": {},
   "outputs": [
    {
     "name": "stdout",
     "output_type": "stream",
     "text": [
      "[1 0 1 1 0 0 0 1]\n"
     ]
    }
   ],
   "source": [
    "print(y_train)"
   ]
  },
  {
   "cell_type": "code",
   "execution_count": 98,
   "metadata": {},
   "outputs": [
    {
     "name": "stdout",
     "output_type": "stream",
     "text": [
      "[1 1]\n"
     ]
    }
   ],
   "source": [
    "print(y_test)"
   ]
  },
  {
   "cell_type": "code",
   "execution_count": 99,
   "metadata": {},
   "outputs": [],
   "source": [
    "from sklearn.preprocessing import StandardScaler\n",
    "sc = StandardScaler()\n",
    "X_train[:, 1:3] = sc.fit_transform(X_train[:, 1:3])\n",
    "X_test[:, 1:3] = sc.transform(X_test[:, 1:3])"
   ]
  },
  {
   "cell_type": "code",
   "execution_count": 100,
   "metadata": {},
   "outputs": [
    {
     "name": "stdout",
     "output_type": "stream",
     "text": [
      "[[0.0 -0.3779644730092272 0.0 0.0 0.0 0.0 1.0 0.0 0.0 0.0 'Kaltim' 24.0\n",
      "  5000000.0]\n",
      " [0.0 -0.3779644730092272 0.0 0.0 1.0 0.0 0.0 0.0 0.0 0.0 'NTT' 29.0 nan]\n",
      " [1.0 -0.3779644730092272 0.0 0.0 0.0 0.0 0.0 0.0 0.0 0.0 'Jateng' 25.0\n",
      "  nan]\n",
      " [0.0 -0.3779644730092272 0.0 1.0 0.0 0.0 0.0 0.0 0.0 0.0 'Sulsel' 29.0\n",
      "  8000000.0]\n",
      " [0.0 2.6457513110645903 0.0 0.0 0.0 0.0 0.0 0.0 0.0 0.0 'Kaltim' 21.0\n",
      "  6000000.0]\n",
      " [0.0 -0.3779644730092272 0.0 0.0 0.0 0.0 0.0 1.0 0.0 0.0 'Sumbar' 29.0\n",
      "  7500000.0]\n",
      " [0.0 -0.3779644730092272 0.0 0.0 0.0 0.0 0.0 0.0 1.0 0.0 'Sulsel' 29.0\n",
      "  5000000.0]\n",
      " [0.0 -0.3779644730092272 0.0 0.0 0.0 1.0 0.0 0.0 0.0 0.0 'Jateng' 23.0\n",
      "  2900000.0]]\n"
     ]
    }
   ],
   "source": [
    "print(X_train)"
   ]
  },
  {
   "cell_type": "code",
   "execution_count": 101,
   "metadata": {},
   "outputs": [
    {
     "name": "stdout",
     "output_type": "stream",
     "text": [
      "[[0.0 -0.3779644730092272 1.0 0.0 0.0 0.0 0.0 0.0 0.0 0.0 'Sumbar' 27.0\n",
      "  4500000.0]\n",
      " [0.0 -0.3779644730092272 0.0 0.0 0.0 0.0 0.0 0.0 0.0 1.0 'NTT' 20.0\n",
      "  3500000.0]]\n"
     ]
    }
   ],
   "source": [
    "print(X_test)"
   ]
  }
 ],
 "metadata": {
  "kernelspec": {
   "display_name": "Python 3",
   "language": "python",
   "name": "python3"
  },
  "language_info": {
   "codemirror_mode": {
    "name": "ipython",
    "version": 3
   },
   "file_extension": ".py",
   "mimetype": "text/x-python",
   "name": "python",
   "nbconvert_exporter": "python",
   "pygments_lexer": "ipython3",
   "version": "3.12.2"
  }
 },
 "nbformat": 4,
 "nbformat_minor": 2
}
